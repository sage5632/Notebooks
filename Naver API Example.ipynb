{
 "cells": [
  {
   "cell_type": "code",
   "execution_count": 26,
   "id": "a45e5a61",
   "metadata": {},
   "outputs": [
    {
     "name": "stdout",
     "output_type": "stream",
     "text": [
      "인코딩된 키워드: %EC%BD%94%EB%A1%9C%EB%82%98%20%EB%B0%B1%EC%8B%A0\n",
      "Error Code: 200\n"
     ]
    }
   ],
   "source": [
    "client_id = \"BD205xB7LvbtcnjsMcul\"\n",
    "client_secret = \"SmPcvRBxBm\"\n",
    "\n",
    "import urllib.request\n",
    "\n",
    "keyword = \"코로나 백신\"\n",
    "# UTF-8 웹 이스케이프 문자로 인코딩\n",
    "enc_keyword = urllib.parse.quote(keyword)\n",
    "print(\"인코딩된 키워드:\", enc_keyword)\n",
    "\n",
    "start = 1\n",
    "display = 100\n",
    "\n",
    "#API 요청 URL\n",
    "url = \"https://openapi.naver.com/v1/search/news.json?query={}&start={}&display={}\".format(enc_keyword,start,display)\n",
    "# API는 요청 헤더에 어플리케이션 식별 정보를 실어준다\n",
    "# 요청의 생성\n",
    "request = urllib.request.Request(url)\n",
    "# 헤더 정보 세팅\n",
    "request.add_header(\"X-Naver-Client-Id\", client_id)\n",
    "request.add_header(\"X-Naver-Client-Secret\", client_secret)\n",
    "\n",
    "# 요청 전송\n",
    "response = urllib.request.urlopen(request)\n",
    "# 응답의 확인\n",
    "if response.getcode == 200:\n",
    "    print(\"성공\")\n",
    "    response_body = response.read().decode(\"utf-8\")\n",
    "    print(response_body)\n",
    "else:\n",
    "    print(\"Error Code: %d\" % response.getcode())"
   ]
  },
  {
   "cell_type": "code",
   "execution_count": 25,
   "id": "fc493705",
   "metadata": {},
   "outputs": [
    {
     "ename": "NameError",
     "evalue": "name 'response_body' is not defined",
     "output_type": "error",
     "traceback": [
      "\u001b[1;31m---------------------------------------------------------------------------\u001b[0m",
      "\u001b[1;31mNameError\u001b[0m                                 Traceback (most recent call last)",
      "\u001b[1;32m<ipython-input-25-7a5f6ed89b8d>\u001b[0m in \u001b[0;36m<module>\u001b[1;34m\u001b[0m\n\u001b[0;32m      2\u001b[0m \u001b[1;32mimport\u001b[0m \u001b[0mjson\u001b[0m\u001b[1;33m\u001b[0m\u001b[1;33m\u001b[0m\u001b[0m\n\u001b[0;32m      3\u001b[0m \u001b[1;33m\u001b[0m\u001b[0m\n\u001b[1;32m----> 4\u001b[1;33m \u001b[0mjson_rt\u001b[0m \u001b[1;33m=\u001b[0m \u001b[0mjson\u001b[0m\u001b[1;33m.\u001b[0m\u001b[0mloads\u001b[0m\u001b[1;33m(\u001b[0m\u001b[0mresponse_body\u001b[0m\u001b[1;33m)\u001b[0m\u001b[1;33m\u001b[0m\u001b[1;33m\u001b[0m\u001b[0m\n\u001b[0m\u001b[0;32m      5\u001b[0m \u001b[1;31m# print(json_rt, type(json_rt))\u001b[0m\u001b[1;33m\u001b[0m\u001b[1;33m\u001b[0m\u001b[1;33m\u001b[0m\u001b[0m\n\u001b[0;32m      6\u001b[0m \u001b[1;33m\u001b[0m\u001b[0m\n",
      "\u001b[1;31mNameError\u001b[0m: name 'response_body' is not defined"
     ]
    }
   ],
   "source": [
    "# 결과 json을 객체로 변환\n",
    "import json\n",
    "\n",
    "json_rt = json.loads(response_body)\n",
    "# print(json_rt, type(json_rt))\n",
    "\n",
    "total = json_rt['total'] # 총 검색 건수\n",
    "items = json_rt['items'] # 검색된 기사 정보\n",
    "\n",
    "print(\"키워드 {}로 총 {} 건의 기사가 검색되었습니다.\".format(keyword, total))\n",
    "\n",
    "for news in items:\n",
    "    print(\"제목: {title} @ {pubDate}: {originallink}\".format_map(news))"
   ]
  }
 ],
 "metadata": {
  "kernelspec": {
   "display_name": "Python 3",
   "language": "python",
   "name": "python3"
  },
  "language_info": {
   "codemirror_mode": {
    "name": "ipython",
    "version": 3
   },
   "file_extension": ".py",
   "mimetype": "text/x-python",
   "name": "python",
   "nbconvert_exporter": "python",
   "pygments_lexer": "ipython3",
   "version": "3.9.5"
  }
 },
 "nbformat": 4,
 "nbformat_minor": 5
}
