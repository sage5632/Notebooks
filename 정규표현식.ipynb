{
 "cells": [
  {
   "cell_type": "code",
   "execution_count": 1,
   "id": "24d4d66b",
   "metadata": {},
   "outputs": [],
   "source": [
    "# 파이썬 정규 표현식\n",
    "\n",
    "# module import\n",
    "import re"
   ]
  },
  {
   "cell_type": "code",
   "execution_count": 7,
   "id": "bb52cc48",
   "metadata": {},
   "outputs": [
    {
     "name": "stdout",
     "output_type": "stream",
     "text": [
      "None\n",
      "<re.Match object; span=(0, 4), match='Life'>\n",
      "<re.Match object; span=(0, 4), match='Life'>\n",
      "Life\n"
     ]
    }
   ],
   "source": [
    "# 사용방법\n",
    "# 1. 패턴 컴파일\n",
    "# 2. 패턴 객체가 가진 메서드 이용 작업 수행\n",
    "source = \"Life is too short, you need Python\"\n",
    "\n",
    "# 방법 1. 패턴 컴파일 후에 매칭\n",
    "p = re.compile(r\"P[a-z]+\") #P로 시작, 소문자 1개 이상인 패턴 매칭\n",
    "print(p.match(source))\n",
    "\n",
    "p = re.compile(r\"L[a-z]+\") # L로 시작 소문자 1개 이상인 패턴 매칭\n",
    "print(p.match(source))\n",
    "\n",
    "# 방법 2. 축약형 : 컴파일 없이 1회성 즉시 매칭\n",
    "print(re.match(r\"[A-Za-z]+\", source)) # 대문자 or 소문자 1문자 이상 패턴 매칭\n",
    "\n",
    "# 매칭된 내용을 추출 -> group() 메서드\n",
    "print(re.match(r\"[A-Za-z]+\", source).group())"
   ]
  },
  {
   "cell_type": "code",
   "execution_count": 13,
   "id": "fa29be5e",
   "metadata": {},
   "outputs": [
    {
     "name": "stdout",
     "output_type": "stream",
     "text": [
      "<re.Match object; span=(0, 5), match='Hello'>\n",
      "None\n",
      "<re.Match object; span=(6, 12), match='Python'>\n",
      "None\n",
      "<re.Match object; span=(6, 12), match='Python'>\n"
     ]
    }
   ],
   "source": [
    "# 특정 문자열이 포함되어 있는지 판별\n",
    "source = \"Hello Python\"\n",
    "print(re.match(\"Hello\", source))\n",
    "print(re.match(\"Python\", source))\n",
    "# match 메서드 처음부터 일치해야 매칭\n",
    "print(re.search(\"Python\", source))\n",
    "# search 메서드 : 전체를 대상으로 매칭 수행\n",
    "print(re.search(\"python\", source))\n",
    "# 기본적으로 대소문자를 구분\n",
    "# 대소문자 구분 없이 매칭 시도 -> re.IGNORECAE or re.I 옵션 사용\n",
    "print(re.search(\"python\", source, re.I)) # 대소문자 구분 없이 검색"
   ]
  },
  {
   "cell_type": "code",
   "execution_count": 22,
   "id": "d523c713",
   "metadata": {},
   "outputs": [
    {
     "name": "stdout",
     "output_type": "stream",
     "text": [
      "['Paint', 'Perl', 'Python', 'P123']\n",
      "<re.Match object; span=(0, 5), match='Paint'>\n",
      "<re.Match object; span=(27, 31), match='Perl'>\n",
      "<re.Match object; span=(37, 43), match='Python'>\n",
      "<re.Match object; span=(44, 48), match='P123'>\n"
     ]
    }
   ],
   "source": [
    "# findall, finditer\n",
    "source = \"Paint C JavaScript 123 456 Perl Java Python P123 Ruby\"\n",
    "# p로 시작되는 문자열을 검색 출력\n",
    "# findall : 매칭된 모든 문자열을 list로 반환\n",
    "#item = re.findall(r\"\\bp[A-Za-z0-9]+\", source, re.I) #\\b는 경계\n",
    "item = re.findall(r\"\\bp\\w+\", source, re.I) #\\w == [A-Za-z0-9]\n",
    "print(item)\n",
    "# finditer : 매칭 영역을 iterator로 반환\n",
    "iter = re.finditer(r\"\\bp\\w+\", source, re.I)\n",
    "\n",
    "for item in iter:\n",
    "    print(item)"
   ]
  }
 ],
 "metadata": {
  "kernelspec": {
   "display_name": "Python 3",
   "language": "python",
   "name": "python3"
  },
  "language_info": {
   "codemirror_mode": {
    "name": "ipython",
    "version": 3
   },
   "file_extension": ".py",
   "mimetype": "text/x-python",
   "name": "python",
   "nbconvert_exporter": "python",
   "pygments_lexer": "ipython3",
   "version": "3.9.5"
  }
 },
 "nbformat": 4,
 "nbformat_minor": 5
}
