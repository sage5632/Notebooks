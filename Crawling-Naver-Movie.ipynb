{
 "cells": [
  {
   "cell_type": "code",
   "execution_count": 3,
   "id": "e9776774",
   "metadata": {},
   "outputs": [
    {
     "name": "stdout",
     "output_type": "stream",
     "text": [
      "현재 상영영화 : 네이버 영화\n"
     ]
    }
   ],
   "source": [
    "# 네이버 상영작 목록 수집\n",
    "# https://movie.naver.com/movie/running/current.nhn\n",
    "from urllib.request import urlopen\n",
    "from bs4 import BeautifulSoup\n",
    "\n",
    "req = urlopen(\"https://movie.naver.com/movie/running/current.nhn\")\n",
    "html = req.read().decode(\"utf-8\")\n",
    "# soup 생성\n",
    "soup = BeautifulSoup(html, \"html.parser\")\n",
    "# 문서 정보\n",
    "print(soup.title.text)"
   ]
  },
  {
   "cell_type": "code",
   "execution_count": 14,
   "id": "1ac1036a",
   "metadata": {},
   "outputs": [
    {
     "ename": "SyntaxError",
     "evalue": "invalid syntax (<ipython-input-14-9a7b2fddc7a6>, line 12)",
     "output_type": "error",
     "traceback": [
      "\u001b[1;36m  File \u001b[1;32m\"<ipython-input-14-9a7b2fddc7a6>\"\u001b[1;36m, line \u001b[1;32m12\u001b[0m\n\u001b[1;33m    print(title.text, https://movie.naver.com/movie/running/current.nhn + title['href'])\u001b[0m\n\u001b[1;37m                           ^\u001b[0m\n\u001b[1;31mSyntaxError\u001b[0m\u001b[1;31m:\u001b[0m invalid syntax\n"
     ]
    }
   ],
   "source": [
    "# .lst_detail_t1 > li 들\n",
    "current_movies = soup.select(\".lst_detail_t1 > li\")\n",
    "# 클래스 lst_detail_t1 의 자식들 li\n",
    "print(current_movies[0].prettify())\n",
    "\n",
    "for movie in current_movies:\n",
    "    # 하위로 다시 Select\n",
    "    info = movie.select(\".lst_dsc > .tit > a\")\n",
    "    # 클래스가 lst_dsc의 자식 .tit 의 자식 a\n",
    "#     print(titles)\n",
    "    for title in titles:\n",
    "        print(title.text, https://movie.naver.com/movie/running/current.nhn + title['href'])"
   ]
  },
  {
   "cell_type": "code",
   "execution_count": 22,
   "id": "a75dd30c",
   "metadata": {},
   "outputs": [
    {
     "ename": "NameError",
     "evalue": "name 'urlretrive' is not defined",
     "output_type": "error",
     "traceback": [
      "\u001b[1;31m---------------------------------------------------------------------------\u001b[0m",
      "\u001b[1;31mNameError\u001b[0m                                 Traceback (most recent call last)",
      "\u001b[1;32m<ipython-input-22-8136ab744707>\u001b[0m in \u001b[0;36m<module>\u001b[1;34m\u001b[0m\n\u001b[0;32m     17\u001b[0m \u001b[1;31m#     print(title)\u001b[0m\u001b[1;33m\u001b[0m\u001b[1;33m\u001b[0m\u001b[1;33m\u001b[0m\u001b[0m\n\u001b[0;32m     18\u001b[0m     \u001b[1;31m# 이미지 다운로드\u001b[0m\u001b[1;33m\u001b[0m\u001b[1;33m\u001b[0m\u001b[1;33m\u001b[0m\u001b[0m\n\u001b[1;32m---> 19\u001b[1;33m     \u001b[0murlretrive\u001b[0m\u001b[1;33m(\u001b[0m\u001b[0mimg\u001b[0m\u001b[1;33m[\u001b[0m\u001b[1;34m'src'\u001b[0m\u001b[1;33m]\u001b[0m\u001b[1;33m,\u001b[0m \u001b[1;34m\"./poster/\"\u001b[0m \u001b[1;33m+\u001b[0m \u001b[0mtitle\u001b[0m\u001b[1;33m)\u001b[0m\u001b[1;33m\u001b[0m\u001b[1;33m\u001b[0m\u001b[0m\n\u001b[0m\u001b[0;32m     20\u001b[0m     \u001b[0mprint\u001b[0m\u001b[1;33m(\u001b[0m\u001b[1;34m\".\"\u001b[0m\u001b[1;33m,\u001b[0m \u001b[0mend\u001b[0m\u001b[1;33m=\u001b[0m\u001b[1;34m\"\"\u001b[0m\u001b[1;33m)\u001b[0m\u001b[1;33m\u001b[0m\u001b[1;33m\u001b[0m\u001b[0m\n\u001b[0;32m     21\u001b[0m \u001b[1;32melse\u001b[0m\u001b[1;33m:\u001b[0m\u001b[1;33m\u001b[0m\u001b[1;33m\u001b[0m\u001b[0m\n",
      "\u001b[1;31mNameError\u001b[0m: name 'urlretrive' is not defined"
     ]
    }
   ],
   "source": [
    "from urllib.request import urlretrieve\n",
    "\n",
    "\n",
    "# 포스터 저장 디렉터리 생성\n",
    "import os\n",
    "if os.path.exists(\"./poster\"): # poster 디렉터리 없으면\n",
    "    os.makedirs(\"./poster\")\n",
    "    \n",
    "import re\n",
    "\n",
    "# 포스터 수집\n",
    "# print(current_movies)\n",
    "for movie in current_movies:\n",
    "    img = movie.select(\"img\")[0] # 이미지명 : alt속성 + \".jpg\"\n",
    "    # 불용문자\n",
    "    title = re.sub(r\"[\\/:*?<>{.]\", \"-\", img['alt'].strip()) + \".jpg\"\n",
    "#     print(title)\n",
    "    # 이미지 다운로드\n",
    "    urlretrieve(img['src'], \"./poster/\" + title)\n",
    "    print(\".\", end=\"\")\n",
    "else:\n",
    "    print(\"Download Complete\")"
   ]
  }
 ],
 "metadata": {
  "kernelspec": {
   "display_name": "Python 3",
   "language": "python",
   "name": "python3"
  },
  "language_info": {
   "codemirror_mode": {
    "name": "ipython",
    "version": 3
   },
   "file_extension": ".py",
   "mimetype": "text/x-python",
   "name": "python",
   "nbconvert_exporter": "python",
   "pygments_lexer": "ipython3",
   "version": "3.9.5"
  }
 },
 "nbformat": 4,
 "nbformat_minor": 5
}
